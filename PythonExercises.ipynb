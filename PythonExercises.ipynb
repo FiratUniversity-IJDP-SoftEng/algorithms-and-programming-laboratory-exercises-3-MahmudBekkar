{
 "cells": [
  {
   "cell_type": "markdown",
   "metadata": {},
   "source": [
    "# Algorithms and Programming\n",
    "# Exercise Notebook (Intermediate Level)\n",
    "\n",
    "### Name:  \n
",
    "### Student ID: \n",
    "### Date: \n",
    "\n"
   ]
  },
  {
   "cell_type": "markdown",
   "metadata": {},
   "source": [
    "\n",
    "# Question 1\n",
    "### Write a Python function `is_prime` that determines if the given integer is a prime number.\n",
    "\n",
    "### Test your function\n",
    "```python\n",
    "print(is_prime(11))  # Expected output: True\n",
    "print(is_prime(15))  # Expected output: False\n",
    "```\n",
    "\n"
   ]
  },
  {
   "cell_type": "code",
   "execution_count": null,
   "metadata": {},
   "outputs": [],
   "source": [
    "#Name: Mahmud Bekkar\n",
    "#Student ID: 220543602\n",
    "#Date: 5/04/2025\n",
    "def is_prime(number):\n",
    "    if number <= 1:\n",
    "        return False\n",
    "    elif number == 2:\n",
    "        return True\n",
    "    else:\n",
    "        for i in range(2, number):\n",
    "            if number % i == 0:\n",
    "                return False\n",
    "        return True\n",
    "print(is_prime(11))  \n",
    "print(is_prime(15))\n"
   ]
  },
  {
   "cell_type": "markdown",
   "metadata": {},
   "source": [
    "# Question 2\n",
    "### Write a Python function `gcd` that calculates the greatest common divisor of two integers using the Euclidean algorithm.\n",
    "\n",
    "### Test your function\n",
    "```python\n",
    "print(gcd(48, 18))  # Expected output: 6\n",
    "print(gcd(100, 25))  # Expected output: 25\n",
    "```"
   ]
  },
  {
   "cell_type": "code",
   "execution_count": null,
   "metadata": {},
   "outputs": [],
   "source": [
    "#Name: Mahmud Bekkar\n",
    "#Student ID: 220543602\n",
    "#Date: 5/04/2025\n",
    "def gcd(first, second):\n",
    "    while second != 0:\n",
    "        first, second = second, first % second\n",
    "    return first\n",
    "print(gcd(48, 18))   \n",
    "print(gcd(100, 25))  \n"
   ]
  },
  {
   "cell_type": "markdown",
   "metadata": {},
   "source": [
    "# Question 3\n",
    "### Write a Python function `count_vowels` that takes a string as input and returns the count of vowels (a, e, i, o, u) in the string.\n",
    "\n",
    "### Test your function\n",
    "```python\n",
    "print(count_vowels(\"intermediate\"))  # Expected output: 5\n",
    "print(count_vowels(\"algorithm\"))  # Expected output: 3\n",
    "```"
   ]
  },
  {
   "cell_type": "code",
   "execution_count": null,
   "metadata": {},
   "outputs": [],
   "source": [
    "#Name: Mahmud Bekkar\n",
    "#Student ID: 220543602\n",
    "#Date: 5/04/2025\n",
    "def count_vowels(string):\n",
    "    vowels = \"aeiou\"\n",
    "    x = 0\n",
    "    for i in string.lower():  \n",
    "        if i in vowels:\n",
    "            x += 1\n",
    "    return x\n",
    "\n",
    "print(count_vowels(\"intermediate\")) \n",
    "print(count_vowels(\"algorithm\"))    \n"
   ]
  },
  {
   "cell_type": "markdown",
   "metadata": {},
   "source": [
    "# Question 4\n",
    "### Write a Python function `merge_sorted_lists` that merges two sorted lists into a single sorted list without using built-in sort functions.\n",
    "\n",
    "### Test your function\n",
    "```python\n",
    "print(merge_sorted_lists([1, 3, 5], [2, 4, 6]))  # Expected output: [1, 2, 3, 4, 5, 6]\n",
    "print(merge_sorted_lists([-3, 0, 7], [-1, 4, 10]))  # Expected output: [-3, -1, 0, 4, 7, 10]\n",
    "```\n"
   ]
  },
  {
   "cell_type": "code",
   "execution_count": null,
   "metadata": {},
   "outputs": [],
   "source": [
    "#Name: Mahmud Bekkar\n",
    "#Student ID: 220543602\n",
    "#Date: 5/04/2025\n",
    "def merge_sorted_lists(firstL, secondL):\n",
    "    mergedList = []\n",
    "    m, b = 0, 0\n",
    "    while m < len(firstL) and b < len(secondL):\n",
    "        if firstL[m] < secondL[b]:\n",
    "            mergedList.append(firstL[m])\n",
    "            m += 1\n",
    "        else:\n",
    "            mergedList.append(secondL[b])\n",
    "            b += 1\n",
    "    while m < len(firstL):\n",
    "        mergedList.append(firstL[m])\n",
    "        m += 1\n",
    "\n",
    "    while b < len(secondL):\n",
    "        mergedList.append(secondL[b])\n",
    "        b += 1\n",
    "    return mergedList\n",
    "print(merge_sorted_lists([1, 3, 5], [2, 4, 6]))  \n",
    "print(merge_sorted_lists([-3, 0, 7], [-1, 4, 10]))  \n"
   ]
  },
  {
   "cell_type": "markdown",
   "metadata": {},
   "source": [
    "# Question 5\n",
    "### Write a Python function `binary_search` that implements the binary search algorithm on a sorted list and returns the index of the element if found, or -1 if not found.\n",
    "\n",
    "### Test your function\n",
    "```python\n",
    "print(binary_search([1, 3, 5, 7, 9, 11], 7))  # Expected output: 3\n",
    "print(binary_search([2, 4, 6, 8, 10], 5))  # Expected output: -1\n",
    "```"
   ]
  },
  {
   "cell_type": "code",
   "execution_count": null,
   "metadata": {},
   "outputs": [],
   "source": [
    "#Name: Mahmud Bekkar\n",
    "#Student ID: 220543602\n",
    "#Date: 5/04/2025\n",
    "def binary_search(first, second):\n",
    "    L, R = 0, len(first) - 1\n",
    "    while L <= R:\n",
    "        i = (L + R) // 2     \n",
    "        if first[i] == second:\n",
    "            return i  \n",
    "        elif first[i] < second:\n",
    "            L = i + 1\n",
    "        else:\n",
    "            R = i - 1  \n",
    "    return -1 \n",
    "print(binary_search([1, 3, 5, 7, 9, 11], 7))\n",
    "print(binary_search([2, 4, 6, 8, 10], 5))   "
   ]
  },
  {
   "cell_type": "markdown",
   "metadata": {},
   "source": []
  }
 ],
 "metadata": {
  "language_info": {
   "name": "python"
  }
 },
 "nbformat": 4,
 "nbformat_minor": 2
}
